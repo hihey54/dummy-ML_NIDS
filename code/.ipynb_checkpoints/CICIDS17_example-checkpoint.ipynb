{
 "cells": [
  {
   "cell_type": "code",
   "execution_count": 13,
   "metadata": {},
   "outputs": [],
   "source": [
    "import pandas as pd\n",
    "import numpy as np\n",
    "import os, time\n",
    "from sklearn.model_selection import train_test_split\n",
    "from sklearn.ensemble import RandomForestClassifier\n",
    "from sklearn.metrics import accuracy_score, f1_score"
   ]
  },
  {
   "cell_type": "code",
   "execution_count": 14,
   "metadata": {},
   "outputs": [
    {
     "name": "stdout",
     "output_type": "stream",
     "text": [
      "Friday-WorkingHours-Afternoon-DDos.pcap_ISCX.csv\n",
      "Friday-WorkingHours-Afternoon-PortScan.pcap_ISCX.csv\n",
      "Friday-WorkingHours-Morning.pcap_ISCX.csv\n",
      "Monday-WorkingHours.pcap_ISCX.csv\n",
      "Thursday-WorkingHours-Afternoon-Infilteration.pcap_ISCX.csv\n",
      "Thursday-WorkingHours-Morning-WebAttacks.pcap_ISCX.csv\n",
      "Tuesday-WorkingHours.pcap_ISCX.csv\n",
      "Wednesday-workingHours.pcap_ISCX.csv\n"
     ]
    }
   ],
   "source": [
    "root_folder = \"H:\\\\NIDS-Datasets\\\\raw\\\\CICIDS2017\\\\CICIDS17_flows\\\\MachineLearningCSV\\\\MachineLearningCVE\\\\\"\n",
    "df = pd.DataFrame()\n",
    "for f in os.listdir(root_folder):\n",
    "    print(f)\n",
    "    df = df.append(pd.read_csv(root_folder + f))"
   ]
  },
  {
   "cell_type": "code",
   "execution_count": 15,
   "metadata": {},
   "outputs": [
    {
     "name": "stdout",
     "output_type": "stream",
     "text": [
      "Index(['Flow Bytes/s', ' Flow Packets/s'], dtype='object')\n"
     ]
    }
   ],
   "source": [
    "# Quick preprocessing\n",
    "df.replace([np.inf, -np.inf], np.nan, inplace=True)\n",
    "print(df.columns[df.isna().any()])\n",
    "df.dropna(inplace=True)"
   ]
  },
  {
   "cell_type": "code",
   "execution_count": 16,
   "metadata": {},
   "outputs": [
    {
     "data": {
      "text/plain": [
       "Index([' Destination Port', ' Flow Duration', ' Total Fwd Packets',\n",
       "       ' Total Backward Packets', 'Total Length of Fwd Packets',\n",
       "       ' Total Length of Bwd Packets', ' Fwd Packet Length Max',\n",
       "       ' Fwd Packet Length Min', ' Fwd Packet Length Mean',\n",
       "       ' Fwd Packet Length Std', 'Bwd Packet Length Max',\n",
       "       ' Bwd Packet Length Min', ' Bwd Packet Length Mean',\n",
       "       ' Bwd Packet Length Std', 'Flow Bytes/s', ' Flow Packets/s',\n",
       "       ' Flow IAT Mean', ' Flow IAT Std', ' Flow IAT Max', ' Flow IAT Min',\n",
       "       'Fwd IAT Total', ' Fwd IAT Mean', ' Fwd IAT Std', ' Fwd IAT Max',\n",
       "       ' Fwd IAT Min', 'Bwd IAT Total', ' Bwd IAT Mean', ' Bwd IAT Std',\n",
       "       ' Bwd IAT Max', ' Bwd IAT Min', 'Fwd PSH Flags', ' Bwd PSH Flags',\n",
       "       ' Fwd URG Flags', ' Bwd URG Flags', ' Fwd Header Length',\n",
       "       ' Bwd Header Length', 'Fwd Packets/s', ' Bwd Packets/s',\n",
       "       ' Min Packet Length', ' Max Packet Length', ' Packet Length Mean',\n",
       "       ' Packet Length Std', ' Packet Length Variance', 'FIN Flag Count',\n",
       "       ' SYN Flag Count', ' RST Flag Count', ' PSH Flag Count',\n",
       "       ' ACK Flag Count', ' URG Flag Count', ' CWE Flag Count',\n",
       "       ' ECE Flag Count', ' Down/Up Ratio', ' Average Packet Size',\n",
       "       ' Avg Fwd Segment Size', ' Avg Bwd Segment Size',\n",
       "       ' Fwd Header Length.1', 'Fwd Avg Bytes/Bulk', ' Fwd Avg Packets/Bulk',\n",
       "       ' Fwd Avg Bulk Rate', ' Bwd Avg Bytes/Bulk', ' Bwd Avg Packets/Bulk',\n",
       "       'Bwd Avg Bulk Rate', 'Subflow Fwd Packets', ' Subflow Fwd Bytes',\n",
       "       ' Subflow Bwd Packets', ' Subflow Bwd Bytes', 'Init_Win_bytes_forward',\n",
       "       ' Init_Win_bytes_backward', ' act_data_pkt_fwd',\n",
       "       ' min_seg_size_forward', 'Active Mean', ' Active Std', ' Active Max',\n",
       "       ' Active Min', 'Idle Mean', ' Idle Std', ' Idle Max', ' Idle Min',\n",
       "       ' Label'],\n",
       "      dtype='object')"
      ]
     },
     "execution_count": 16,
     "metadata": {},
     "output_type": "execute_result"
    }
   ],
   "source": [
    "df.columns"
   ]
  },
  {
   "cell_type": "code",
   "execution_count": 17,
   "metadata": {},
   "outputs": [
    {
     "data": {
      "text/plain": [
       "array(['BENIGN', 'DDoS', 'PortScan', 'Bot', 'Infiltration',\n",
       "       'Web Attack � Brute Force', 'Web Attack � XSS',\n",
       "       'Web Attack � Sql Injection', 'FTP-Patator', 'SSH-Patator',\n",
       "       'DoS slowloris', 'DoS Slowhttptest', 'DoS Hulk', 'DoS GoldenEye',\n",
       "       'Heartbleed'], dtype=object)"
      ]
     },
     "execution_count": 17,
     "metadata": {},
     "output_type": "execute_result"
    }
   ],
   "source": [
    "df[' Label'].unique()"
   ]
  },
  {
   "cell_type": "code",
   "execution_count": 18,
   "metadata": {},
   "outputs": [],
   "source": [
    "df['GT'] = np.where(df[' Label']=='BENIGN', 'Benign', 'Malicious')"
   ]
  },
  {
   "cell_type": "code",
   "execution_count": 19,
   "metadata": {},
   "outputs": [],
   "source": [
    "train, test = train_test_split(df, test_size=0.5)"
   ]
  },
  {
   "cell_type": "code",
   "execution_count": 20,
   "metadata": {},
   "outputs": [],
   "source": [
    "features = pd.Index([' Destination Port', ' Flow Duration', ' Total Fwd Packets',\n",
    "       ' Total Backward Packets', 'Total Length of Fwd Packets',\n",
    "       ' Total Length of Bwd Packets', ' Fwd Packet Length Max',\n",
    "       ' Fwd Packet Length Min', ' Fwd Packet Length Mean',\n",
    "       ' Fwd Packet Length Std', 'Bwd Packet Length Max',\n",
    "       ' Bwd Packet Length Min', ' Bwd Packet Length Mean',\n",
    "       ' Bwd Packet Length Std', 'Flow Bytes/s', ' Flow Packets/s',\n",
    "       ' Flow IAT Mean', ' Flow IAT Std', ' Flow IAT Max', ' Flow IAT Min',\n",
    "       'Fwd IAT Total', ' Fwd IAT Mean', ' Fwd IAT Std', ' Fwd IAT Max',\n",
    "       ' Fwd IAT Min', 'Bwd IAT Total', ' Bwd IAT Mean', ' Bwd IAT Std',\n",
    "       ' Bwd IAT Max', ' Bwd IAT Min', 'Fwd PSH Flags', ' Bwd PSH Flags',\n",
    "       ' Fwd URG Flags', ' Bwd URG Flags', ' Fwd Header Length',\n",
    "       ' Bwd Header Length', 'Fwd Packets/s', ' Bwd Packets/s',\n",
    "       ' Min Packet Length', ' Max Packet Length', ' Packet Length Mean',\n",
    "       ' Packet Length Std', ' Packet Length Variance', 'FIN Flag Count',\n",
    "       ' SYN Flag Count', ' RST Flag Count', ' PSH Flag Count',\n",
    "       ' ACK Flag Count', ' URG Flag Count', ' CWE Flag Count',\n",
    "       ' ECE Flag Count', ' Down/Up Ratio', ' Average Packet Size',\n",
    "       ' Avg Fwd Segment Size', ' Avg Bwd Segment Size',\n",
    "       ' Fwd Header Length.1', 'Fwd Avg Bytes/Bulk', ' Fwd Avg Packets/Bulk',\n",
    "       ' Fwd Avg Bulk Rate', ' Bwd Avg Bytes/Bulk', ' Bwd Avg Packets/Bulk',\n",
    "       'Bwd Avg Bulk Rate', 'Subflow Fwd Packets', ' Subflow Fwd Bytes',\n",
    "       ' Subflow Bwd Packets', ' Subflow Bwd Bytes', 'Init_Win_bytes_forward',\n",
    "       ' Init_Win_bytes_backward', ' act_data_pkt_fwd',\n",
    "       ' min_seg_size_forward', 'Active Mean', ' Active Std', ' Active Max',\n",
    "       ' Active Min', 'Idle Mean', ' Idle Std', ' Idle Max', ' Idle Min'])"
   ]
  },
  {
   "cell_type": "code",
   "execution_count": 21,
   "metadata": {},
   "outputs": [
    {
     "name": "stdout",
     "output_type": "stream",
     "text": [
      "Training time:  163.83201718330383\n",
      "Acc: 0.998798\n",
      "F1-score: 0.996940\n"
     ]
    },
    {
     "data": {
      "text/html": [
       "<div>\n",
       "<style scoped>\n",
       "    .dataframe tbody tr th:only-of-type {\n",
       "        vertical-align: middle;\n",
       "    }\n",
       "\n",
       "    .dataframe tbody tr th {\n",
       "        vertical-align: top;\n",
       "    }\n",
       "\n",
       "    .dataframe thead th {\n",
       "        text-align: right;\n",
       "    }\n",
       "</style>\n",
       "<table border=\"1\" class=\"dataframe\">\n",
       "  <thead>\n",
       "    <tr style=\"text-align: right;\">\n",
       "      <th>col_0</th>\n",
       "      <th>Benign</th>\n",
       "      <th>Malicious</th>\n",
       "    </tr>\n",
       "    <tr>\n",
       "      <th>GT</th>\n",
       "      <th></th>\n",
       "      <th></th>\n",
       "    </tr>\n",
       "  </thead>\n",
       "  <tbody>\n",
       "    <tr>\n",
       "      <th>Benign</th>\n",
       "      <td>1135334</td>\n",
       "      <td>774</td>\n",
       "    </tr>\n",
       "    <tr>\n",
       "      <th>Malicious</th>\n",
       "      <td>926</td>\n",
       "      <td>276904</td>\n",
       "    </tr>\n",
       "  </tbody>\n",
       "</table>\n",
       "</div>"
      ],
      "text/plain": [
       "col_0       Benign  Malicious\n",
       "GT                           \n",
       "Benign     1135334        774\n",
       "Malicious      926     276904"
      ]
     },
     "execution_count": 21,
     "metadata": {},
     "output_type": "execute_result"
    }
   ],
   "source": [
    "start = time.time()\n",
    "rf_clf = RandomForestClassifier(n_jobs = -2)\n",
    "rf_clf.fit(train[features], train['GT'])\n",
    "end = time.time() - start\n",
    "print(\"Training time: \", end)\n",
    "predictions = rf_clf.predict(test[features])\n",
    "print(\"Acc: {:3f}\".format(accuracy_score(test['GT'], predictions)))\n",
    "print(\"F1-score: {:3f}\".format(f1_score(test['GT'], predictions, pos_label = 'Malicious')))\n",
    "pd.crosstab(test['GT'], predictions)"
   ]
  },
  {
   "cell_type": "code",
   "execution_count": 12,
   "metadata": {},
   "outputs": [
    {
     "name": "stdout",
     "output_type": "stream",
     "text": [
      "Training time:  166.00081276893616\n",
      "Acc: 0.998817\n",
      "F1-score: 0.996992\n"
     ]
    },
    {
     "data": {
      "text/html": [
       "<div>\n",
       "<style scoped>\n",
       "    .dataframe tbody tr th:only-of-type {\n",
       "        vertical-align: middle;\n",
       "    }\n",
       "\n",
       "    .dataframe tbody tr th {\n",
       "        vertical-align: top;\n",
       "    }\n",
       "\n",
       "    .dataframe thead th {\n",
       "        text-align: right;\n",
       "    }\n",
       "</style>\n",
       "<table border=\"1\" class=\"dataframe\">\n",
       "  <thead>\n",
       "    <tr style=\"text-align: right;\">\n",
       "      <th>col_0</th>\n",
       "      <th>Benign</th>\n",
       "      <th>Malicious</th>\n",
       "    </tr>\n",
       "    <tr>\n",
       "      <th>GT</th>\n",
       "      <th></th>\n",
       "      <th></th>\n",
       "    </tr>\n",
       "  </thead>\n",
       "  <tbody>\n",
       "    <tr>\n",
       "      <th>Benign</th>\n",
       "      <td>1135208</td>\n",
       "      <td>822</td>\n",
       "    </tr>\n",
       "    <tr>\n",
       "      <th>Malicious</th>\n",
       "      <td>850</td>\n",
       "      <td>277058</td>\n",
       "    </tr>\n",
       "  </tbody>\n",
       "</table>\n",
       "</div>"
      ],
      "text/plain": [
       "col_0       Benign  Malicious\n",
       "GT                           \n",
       "Benign     1135208        822\n",
       "Malicious      850     277058"
      ]
     },
     "execution_count": 12,
     "metadata": {},
     "output_type": "execute_result"
    }
   ],
   "source": [
    "start = time.time()\n",
    "rf_clf = RandomForestClassifier(n_jobs = -2)\n",
    "rf_clf.fit(train[features], train['GT'])\n",
    "end = time.time() - start\n",
    "print(\"Training time: \", end)\n",
    "predictions = rf_clf.predict(test[features])\n",
    "print(\"Acc: {:3f}\".format(accuracy_score(test['GT'], predictions)))\n",
    "print(\"F1-score: {:3f}\".format(f1_score(test['GT'], predictions, pos_label = 'Malicious')))\n",
    "pd.crosstab(test['GT'], predictions)"
   ]
  }
 ],
 "metadata": {
  "kernelspec": {
   "display_name": "Python 3",
   "language": "python",
   "name": "python3"
  },
  "language_info": {
   "codemirror_mode": {
    "name": "ipython",
    "version": 3
   },
   "file_extension": ".py",
   "mimetype": "text/x-python",
   "name": "python",
   "nbconvert_exporter": "python",
   "pygments_lexer": "ipython3",
   "version": "3.8.3"
  }
 },
 "nbformat": 4,
 "nbformat_minor": 4
}
